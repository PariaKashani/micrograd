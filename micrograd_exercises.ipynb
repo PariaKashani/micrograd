{
  "nbformat": 4,
  "nbformat_minor": 0,
  "metadata": {
    "colab": {
      "provenance": []
    },
    "kernelspec": {
      "name": "python3",
      "display_name": "Python 3"
    },
    "language_info": {
      "name": "python"
    }
  },
  "cells": [
    {
      "cell_type": "markdown",
      "source": [
        "# micrograd exercises\n",
        "\n",
        "1. watch the [micrograd video](https://www.youtube.com/watch?v=VMj-3S1tku0) on YouTube\n",
        "2. come back and complete these exercises to level up :)"
      ],
      "metadata": {
        "id": "JnGHatCI51JP"
      }
    },
    {
      "cell_type": "markdown",
      "source": [
        "## section 1: derivatives"
      ],
      "metadata": {
        "id": "OFt6NKOz6iBZ"
      }
    },
    {
      "cell_type": "code",
      "source": [
        "# here is a mathematical expression that takes 3 inputs and produces one output\n",
        "from math import sin, cos\n",
        "\n",
        "def f(a, b, c):\n",
        "  return -a**3 + sin(3*b) - 1.0/c + b**2.5 - a**0.5\n",
        "\n",
        "print(f(2, 3, 4))"
      ],
      "metadata": {
        "id": "3Jx9fCXl5xHd",
        "colab": {
          "base_uri": "https://localhost:8080/"
        },
        "outputId": "5feda4b8-1a54-46db-91d0-fd79993d1221"
      },
      "execution_count": 123,
      "outputs": [
        {
          "output_type": "stream",
          "name": "stdout",
          "text": [
            "6.336362190988558\n"
          ]
        }
      ]
    },
    {
      "cell_type": "code",
      "source": [
        "# write the function df that returns the analytical gradient of f\n",
        "# i.e. use your skills from calculus to take the derivative, then implement the formula\n",
        "# if you do not calculus then feel free to ask wolframalpha, e.g.:\n",
        "# https://www.wolframalpha.com/input?i=d%2Fda%28sin%283*a%29%29%29\n",
        "\n",
        "def gradf(a, b, c):\n",
        "  df_da = -3 * (a**2) - 0.5 * (a**(-0.5))\n",
        "  df_db = 3 * cos(3*b) + 2.5 * (b**1.5)\n",
        "  df_dc = c**(-2)\n",
        "  return [df_da, df_db, df_dc] # todo, return [df/da, df/db, df/dc]\n",
        "\n",
        "# expected answer is the list of\n",
        "ans = [-12.353553390593273, 10.25699027111255, 0.0625]\n",
        "yours = gradf(2, 3, 4)\n",
        "for dim in range(3):\n",
        "  ok = 'OK' if abs(yours[dim] - ans[dim]) < 1e-5 else 'WRONG!'\n",
        "  print(f\"{ok} for dim {dim}: expected {ans[dim]}, yours returns {yours[dim]}\")\n"
      ],
      "metadata": {
        "id": "qXaH59eL9zxf",
        "colab": {
          "base_uri": "https://localhost:8080/"
        },
        "outputId": "5312cd50-703f-4a59-b845-53b02efb00c6"
      },
      "execution_count": 124,
      "outputs": [
        {
          "output_type": "stream",
          "name": "stdout",
          "text": [
            "OK for dim 0: expected -12.353553390593273, yours returns -12.353553390593273\n",
            "OK for dim 1: expected 10.25699027111255, yours returns 10.25699027111255\n",
            "OK for dim 2: expected 0.0625, yours returns 0.0625\n"
          ]
        }
      ]
    },
    {
      "cell_type": "code",
      "source": [
        "# now estimate the gradient numerically without any calculus, using\n",
        "# the approximation we used in the video.\n",
        "# you should not call the function df from the last cell\n",
        "\n",
        "# -----------\n",
        "def num_grad_f(a, b, c, h):\n",
        "  num_grad_a = (f(a + h, b, c) - f(a, b, c))/h\n",
        "  num_grad_b = (f(a, b+h, c) - f(a, b, c))/h\n",
        "  num_grad_c = (f(a, b, c+h) - f(a, b, c))/h\n",
        "  return [num_grad_a, num_grad_b, num_grad_c]\n",
        "h = 0.000001\n",
        "numerical_grad = num_grad_f(2, 3, 4, h) # TODO\n",
        "# -----------\n",
        "\n",
        "for dim in range(3):\n",
        "  ok = 'OK' if abs(numerical_grad[dim] - ans[dim]) < 1e-5 else 'WRONG!'\n",
        "  print(f\"{ok} for dim {dim}: expected {ans[dim]}, yours returns {numerical_grad[dim]}\")\n"
      ],
      "metadata": {
        "id": "_27n-KTA9Qla",
        "colab": {
          "base_uri": "https://localhost:8080/"
        },
        "outputId": "13b1a50f-f61b-410c-fcc1-87fdfbc08ac3"
      },
      "execution_count": 128,
      "outputs": [
        {
          "output_type": "stream",
          "name": "stdout",
          "text": [
            "OK for dim 0: expected -12.353553390593273, yours returns -12.353559348809995\n",
            "OK for dim 1: expected 10.25699027111255, yours returns 10.256991666679482\n",
            "OK for dim 2: expected 0.0625, yours returns 0.062499984743169534\n"
          ]
        }
      ]
    },
    {
      "cell_type": "code",
      "source": [
        "# there is an alternative formula that provides a much better numerical\n",
        "# approximation to the derivative of a function.\n",
        "# learn about it here: https://en.wikipedia.org/wiki/Symmetric_derivative\n",
        "# implement it. confirm that for the same step size h this version gives a\n",
        "# better approximation.\n",
        "\n",
        "# -----------\n",
        "def num_grad_sym_f(a, b, c, h):\n",
        "  num_grad_a = (f(a + h, b, c) - f(a-h, b, c))/(2*h)\n",
        "  num_grad_b = (f(a, b+h, c) - f(a, b-h, c))/(2*h)\n",
        "  num_grad_c = (f(a, b, c+h) - f(a, b, c-h))/(2*h)\n",
        "  return [num_grad_a, num_grad_b, num_grad_c]\n",
        "h = 0.001\n",
        "numerical_grad2 = num_grad_sym_f(2, 3, 4, h) # TODO\n",
        "# -----------\n",
        "\n",
        "for dim in range(3):\n",
        "  ok = 'OK' if abs(numerical_grad2[dim] - ans[dim]) < 1e-5 else 'WRONG!'\n",
        "  print(f\"{ok} for dim {dim}: expected {ans[dim]}, yours returns {numerical_grad2[dim]}\")\n"
      ],
      "metadata": {
        "id": "BUqsGb5o_h2P",
        "colab": {
          "base_uri": "https://localhost:8080/"
        },
        "outputId": "99903225-77ac-48f9-c3f6-7b849ad7475f"
      },
      "execution_count": 131,
      "outputs": [
        {
          "output_type": "stream",
          "name": "stdout",
          "text": [
            "OK for dim 0: expected -12.353553390593273, yours returns -12.353554401639766\n",
            "OK for dim 1: expected 10.25699027111255, yours returns 10.256994551617105\n",
            "OK for dim 2: expected 0.0625, yours returns 0.06250000390650712\n"
          ]
        }
      ]
    },
    {
      "cell_type": "markdown",
      "source": [
        "## section 2: support for softmax"
      ],
      "metadata": {
        "id": "tklF9s_4AtlI"
      }
    },
    {
      "cell_type": "code",
      "source": [
        "import math"
      ],
      "metadata": {
        "id": "VkT5kQnGzjzz"
      },
      "execution_count": 12,
      "outputs": []
    },
    {
      "cell_type": "code",
      "source": [
        "# Value class starter code, with many functions taken out\n",
        "from math import exp, log\n",
        "\n",
        "class Value:\n",
        "\n",
        "  def __init__(self, data, _children=(), _op='', label=''):\n",
        "    self.data = data\n",
        "    self.grad = 0.0\n",
        "    self._backward = lambda: None\n",
        "    self._prev = set(_children)\n",
        "    self._op = _op\n",
        "    self.label = label\n",
        "\n",
        "  def __repr__(self):\n",
        "    return f\"Value(data={self.data})\"\n",
        "\n",
        "  def __rmul__(self, other): # other * self\n",
        "    return self * other\n",
        "\n",
        "  def __truediv__(self, other): # self / other\n",
        "    return self * other**-1\n",
        "\n",
        "  def __neg__(self): # -self\n",
        "    return self * -1\n",
        "\n",
        "  def __sub__(self, other): # self - other\n",
        "    return self + (-other)\n",
        "\n",
        "  def __radd__(self, other): # other + self\n",
        "    return self + other\n",
        "\n",
        "  def __add__(self, other): # exactly as in the video\n",
        "    other = other if isinstance(other, Value) else Value(other)\n",
        "    out = Value(self.data + other.data, (self, other), '+')\n",
        "\n",
        "    def _backward():\n",
        "      self.grad += 1.0 * out.grad\n",
        "      other.grad += 1.0 * out.grad\n",
        "\n",
        "    out._backward = _backward\n",
        "\n",
        "    return out\n",
        "\n",
        "  def __mul__(self, other):\n",
        "    other = other if isinstance(other, Value) else Value(other)\n",
        "    out = Value(self.data * other.data, (self, other), '*')\n",
        "\n",
        "    def _backward():\n",
        "      self.grad += other.data*out.grad\n",
        "      other.grad += self.data*out.grad\n",
        "\n",
        "    out._backward = _backward\n",
        "\n",
        "    return out\n",
        "\n",
        "  def __pow__(self, other):\n",
        "    if not isinstance(other, (int, float)):\n",
        "      raise ValueError(\"power must be float or int\")\n",
        "    out = Value(self.data**other, (self, ), '**'+str(other))\n",
        "\n",
        "    def _backward():\n",
        "      self.grad += other*(self.data**(other-1))*out.grad\n",
        "    out._backward = _backward\n",
        "\n",
        "    return out\n",
        "\n",
        "  def exp(self):\n",
        "    out = Value(math.exp(self.data), (self,), 'exp')\n",
        "\n",
        "    def _backward():\n",
        "      self.grad += out.grad*out.data\n",
        "    out._backward = _backward\n",
        "\n",
        "    return out\n",
        "\n",
        "  def log(self):\n",
        "    out = Value(math.log(self.data), (self,), 'log')\n",
        "\n",
        "    def _backward():\n",
        "      self.grad += (1/self.data)*out.grad\n",
        "    out._backward = _backward\n",
        "\n",
        "    return out\n",
        "\n",
        "  def tanh(self):\n",
        "    x = self.data\n",
        "    t = (math.exp(2*x) - 1)/(math.exp(2*x) + 1)\n",
        "    out = Value(t, (self, ), 'tanh')\n",
        "\n",
        "    def _backward():\n",
        "      self.grad += (1 - t**2) * out.grad\n",
        "    out._backward = _backward\n",
        "\n",
        "    return out\n",
        "\n",
        "  def relu(self):\n",
        "    # print(self, self.data)\n",
        "    xx = self.data\n",
        "    r = (xx>0)*xx\n",
        "    out = Value(r, (self,), 'relu')\n",
        "\n",
        "    def _backward():\n",
        "      self.grad += (xx>0)*out.grad\n",
        "    out._backward = _backward\n",
        "\n",
        "    return out\n",
        "\n",
        "\n",
        "\n",
        "  # ------\n",
        "  # re-implement all the other functions needed for the exercises below\n",
        "  # your code here\n",
        "  # TODO\n",
        "  # ------\n",
        "\n",
        "  def backward(self): # exactly as in video\n",
        "    topo = []\n",
        "    visited = set()\n",
        "    def build_topo(v):\n",
        "      if v not in visited:\n",
        "        visited.add(v)\n",
        "        for child in v._prev:\n",
        "          build_topo(child)\n",
        "        topo.append(v)\n",
        "    build_topo(self)\n",
        "\n",
        "    self.grad = 1.0\n",
        "    for node in reversed(topo):\n",
        "      node._backward()"
      ],
      "metadata": {
        "id": "nAPe_RVrCTeO"
      },
      "execution_count": 96,
      "outputs": []
    },
    {
      "cell_type": "code",
      "source": [
        "from graphviz import Digraph\n",
        "\n",
        "def trace(root):\n",
        "  # builds a set of all nodes and edges in a graph\n",
        "  nodes, edges = set(), set()\n",
        "  def build(v):\n",
        "    if v not in nodes:\n",
        "      nodes.add(v)\n",
        "      for child in v._prev:\n",
        "        edges.add((child, v))\n",
        "        build(child)\n",
        "  build(root)\n",
        "  return nodes, edges\n",
        "\n",
        "def draw_dot(root):\n",
        "  dot = Digraph(format='svg', graph_attr={'rankdir': 'LR'}) # LR = left to right\n",
        "\n",
        "  nodes, edges = trace(root)\n",
        "  for n in nodes:\n",
        "    uid = str(id(n))\n",
        "    # for any value in the graph, create a rectangular ('record') node for it\n",
        "    dot.node(name = uid, label = \"{ %s | data %.4f | grad %.4f }\" % (n.label, n.data, n.grad), shape='record')\n",
        "    if n._op:\n",
        "      # if this value is a result of some operation, create an op node for it\n",
        "      dot.node(name = uid + n._op, label = n._op)\n",
        "      # and connect this node to it\n",
        "      dot.edge(uid + n._op, uid)\n",
        "\n",
        "  for n1, n2 in edges:\n",
        "    # connect n1 to the op node of n2\n",
        "    dot.edge(str(id(n1)), str(id(n2)) + n2._op)\n",
        "\n",
        "  return dot\n"
      ],
      "metadata": {
        "id": "NsQMO6U1ImkH"
      },
      "execution_count": 9,
      "outputs": []
    },
    {
      "cell_type": "code",
      "source": [
        "# without referencing our code/video __too__ much, make this cell work\n",
        "# you'll have to implement (in some cases re-implemented) a number of functions\n",
        "# of the Value object, similar to what we've seen in the video.\n",
        "# instead of the squared error loss this implements the negative log likelihood\n",
        "# loss, which is very often used in classification.\n",
        "\n",
        "# this is the softmax function\n",
        "# https://en.wikipedia.org/wiki/Softmax_function\n",
        "def softmax(logits):\n",
        "  counts = [logit.exp() for logit in logits]\n",
        "  denominator = sum(counts)\n",
        "  out = [c / denominator for c in counts]\n",
        "  return out\n",
        "\n",
        "# this is the negative log likelihood loss function, pervasive in classification\n",
        "logits = [Value(0.0), Value(3.0), Value(-2.0), Value(1.0)]\n",
        "probs = softmax(logits)\n",
        "loss = -probs[3].log() # dim 3 acts as the label for this input example\n",
        "loss.backward()\n",
        "print(loss.data)\n",
        "\n",
        "ans = [0.041772570515350445, 0.8390245074625319, 0.005653302662216329, -0.8864503806400986]\n",
        "for dim in range(4):\n",
        "  ok = 'OK' if abs(logits[dim].grad - ans[dim]) < 1e-5 else 'WRONG!'\n",
        "  print(f\"{ok} for dim {dim}: expected {ans[dim]}, yours returns {logits[dim].grad}\")\n"
      ],
      "metadata": {
        "id": "VgWvwVQNAvnI",
        "colab": {
          "base_uri": "https://localhost:8080/"
        },
        "outputId": "1c210a08-4220-4df9-f3a9-5c4caf5c61ad"
      },
      "execution_count": 13,
      "outputs": [
        {
          "output_type": "stream",
          "name": "stdout",
          "text": [
            "2.1755153626167147\n",
            "OK for dim 0: expected 0.041772570515350445, yours returns 0.041772570515350445\n",
            "OK for dim 1: expected 0.8390245074625319, yours returns 0.8390245074625319\n",
            "OK for dim 2: expected 0.005653302662216329, yours returns 0.005653302662216329\n",
            "OK for dim 3: expected -0.8864503806400986, yours returns -0.8864503806400986\n"
          ]
        }
      ]
    },
    {
      "cell_type": "code",
      "source": [
        "draw_dot(loss)"
      ],
      "metadata": {
        "colab": {
          "base_uri": "https://localhost:8080/",
          "height": 321
        },
        "id": "pVY4cpB8Jgjr",
        "outputId": "8cfcdf36-aa51-4a59-d8e5-fbeb7ecd5e14"
      },
      "execution_count": 14,
      "outputs": [
        {
          "output_type": "execute_result",
          "data": {
            "image/svg+xml": "<?xml version=\"1.0\" encoding=\"UTF-8\" standalone=\"no\"?>\n<!DOCTYPE svg PUBLIC \"-//W3C//DTD SVG 1.1//EN\"\n \"http://www.w3.org/Graphics/SVG/1.1/DTD/svg11.dtd\">\n<!-- Generated by graphviz version 2.43.0 (0)\n -->\n<!-- Title: %3 Pages: 1 -->\n<svg width=\"3014pt\" height=\"210pt\"\n viewBox=\"0.00 0.00 3014.00 210.00\" xmlns=\"http://www.w3.org/2000/svg\" xmlns:xlink=\"http://www.w3.org/1999/xlink\">\n<g id=\"graph0\" class=\"graph\" transform=\"scale(1 1) rotate(0) translate(4 206)\">\n<title>%3</title>\n<polygon fill=\"white\" stroke=\"transparent\" points=\"-4,4 -4,-206 3010,-206 3010,4 -4,4\"/>\n<!-- 137140320089616 -->\n<g id=\"node1\" class=\"node\">\n<title>137140320089616</title>\n<polygon fill=\"none\" stroke=\"black\" points=\"1876,-102.5 1876,-138.5 2069,-138.5 2069,-102.5 1876,-102.5\"/>\n<text text-anchor=\"middle\" x=\"1886\" y=\"-116.8\" font-family=\"Times,serif\" font-size=\"14.00\"> </text>\n<polyline fill=\"none\" stroke=\"black\" points=\"1896,-102.5 1896,-138.5 \"/>\n<text text-anchor=\"middle\" x=\"1936\" y=\"-116.8\" font-family=\"Times,serif\" font-size=\"14.00\">data 0.0418</text>\n<polyline fill=\"none\" stroke=\"black\" points=\"1976,-102.5 1976,-138.5 \"/>\n<text text-anchor=\"middle\" x=\"2022.5\" y=\"-116.8\" font-family=\"Times,serif\" font-size=\"14.00\">grad &#45;23.9392</text>\n</g>\n<!-- 137140320088656* -->\n<g id=\"node7\" class=\"node\">\n<title>137140320088656*</title>\n<ellipse fill=\"none\" stroke=\"black\" cx=\"2132\" cy=\"-96.5\" rx=\"27\" ry=\"18\"/>\n<text text-anchor=\"middle\" x=\"2132\" y=\"-92.8\" font-family=\"Times,serif\" font-size=\"14.00\">*</text>\n</g>\n<!-- 137140320089616&#45;&gt;137140320088656* -->\n<g id=\"edge13\" class=\"edge\">\n<title>137140320089616&#45;&gt;137140320088656*</title>\n<path fill=\"none\" stroke=\"black\" d=\"M2069.2,-105.92C2078.43,-104.51 2087.33,-103.15 2095.37,-101.93\"/>\n<polygon fill=\"black\" stroke=\"black\" points=\"2096.03,-105.37 2105.38,-100.4 2094.97,-98.45 2096.03,-105.37\"/>\n</g>\n<!-- 137140320089616**&#45;1 -->\n<g id=\"node2\" class=\"node\">\n<title>137140320089616**&#45;1</title>\n<ellipse fill=\"none\" stroke=\"black\" cx=\"1813\" cy=\"-120.5\" rx=\"27\" ry=\"18\"/>\n<text text-anchor=\"middle\" x=\"1813\" y=\"-116.8\" font-family=\"Times,serif\" font-size=\"14.00\">**&#45;1</text>\n</g>\n<!-- 137140320089616**&#45;1&#45;&gt;137140320089616 -->\n<g id=\"edge1\" class=\"edge\">\n<title>137140320089616**&#45;1&#45;&gt;137140320089616</title>\n<path fill=\"none\" stroke=\"black\" d=\"M1840.01,-120.5C1847.52,-120.5 1856.21,-120.5 1865.47,-120.5\"/>\n<polygon fill=\"black\" stroke=\"black\" points=\"1865.72,-124 1875.72,-120.5 1865.72,-117 1865.72,-124\"/>\n</g>\n<!-- 137140320088080 -->\n<g id=\"node3\" class=\"node\">\n<title>137140320088080</title>\n<polygon fill=\"none\" stroke=\"black\" points=\"934.5,-165.5 934.5,-201.5 1116.5,-201.5 1116.5,-165.5 934.5,-165.5\"/>\n<text text-anchor=\"middle\" x=\"944.5\" y=\"-179.8\" font-family=\"Times,serif\" font-size=\"14.00\"> </text>\n<polyline fill=\"none\" stroke=\"black\" points=\"954.5,-165.5 954.5,-201.5 \"/>\n<text text-anchor=\"middle\" x=\"994.5\" y=\"-179.8\" font-family=\"Times,serif\" font-size=\"14.00\">data 0.1353</text>\n<polyline fill=\"none\" stroke=\"black\" points=\"1034.5,-165.5 1034.5,-201.5 \"/>\n<text text-anchor=\"middle\" x=\"1075.5\" y=\"-179.8\" font-family=\"Times,serif\" font-size=\"14.00\">grad 0.0418</text>\n</g>\n<!-- 137140320085200+ -->\n<g id=\"node14\" class=\"node\">\n<title>137140320085200+</title>\n<ellipse fill=\"none\" stroke=\"black\" cx=\"1183\" cy=\"-128.5\" rx=\"27\" ry=\"18\"/>\n<text text-anchor=\"middle\" x=\"1183\" y=\"-124.8\" font-family=\"Times,serif\" font-size=\"14.00\">+</text>\n</g>\n<!-- 137140320088080&#45;&gt;137140320085200+ -->\n<g id=\"edge28\" class=\"edge\">\n<title>137140320088080&#45;&gt;137140320085200+</title>\n<path fill=\"none\" stroke=\"black\" d=\"M1093.28,-165.48C1102.33,-162.67 1111.44,-159.65 1120,-156.5 1130.5,-152.64 1141.72,-147.8 1151.69,-143.24\"/>\n<polygon fill=\"black\" stroke=\"black\" points=\"1153.21,-146.39 1160.79,-138.99 1150.25,-140.04 1153.21,-146.39\"/>\n</g>\n<!-- 137140320088080exp -->\n<g id=\"node4\" class=\"node\">\n<title>137140320088080exp</title>\n<ellipse fill=\"none\" stroke=\"black\" cx=\"868\" cy=\"-183.5\" rx=\"27\" ry=\"18\"/>\n<text text-anchor=\"middle\" x=\"868\" y=\"-179.8\" font-family=\"Times,serif\" font-size=\"14.00\">exp</text>\n</g>\n<!-- 137140320088080exp&#45;&gt;137140320088080 -->\n<g id=\"edge2\" class=\"edge\">\n<title>137140320088080exp&#45;&gt;137140320088080</title>\n<path fill=\"none\" stroke=\"black\" d=\"M895.03,-183.5C903.48,-183.5 913.42,-183.5 923.98,-183.5\"/>\n<polygon fill=\"black\" stroke=\"black\" points=\"924.27,-187 934.27,-183.5 924.27,-180 924.27,-187\"/>\n</g>\n<!-- 137140320078384 -->\n<g id=\"node5\" class=\"node\">\n<title>137140320078384</title>\n<polygon fill=\"none\" stroke=\"black\" points=\"932.5,-55.5 932.5,-91.5 1118.5,-91.5 1118.5,-55.5 932.5,-55.5\"/>\n<text text-anchor=\"middle\" x=\"942.5\" y=\"-69.8\" font-family=\"Times,serif\" font-size=\"14.00\"> </text>\n<polyline fill=\"none\" stroke=\"black\" points=\"952.5,-55.5 952.5,-91.5 \"/>\n<text text-anchor=\"middle\" x=\"992.5\" y=\"-69.8\" font-family=\"Times,serif\" font-size=\"14.00\">data 1.0000</text>\n<polyline fill=\"none\" stroke=\"black\" points=\"1032.5,-55.5 1032.5,-91.5 \"/>\n<text text-anchor=\"middle\" x=\"1075.5\" y=\"-69.8\" font-family=\"Times,serif\" font-size=\"14.00\">grad &#45;0.8865</text>\n</g>\n<!-- 137140320088416exp -->\n<g id=\"node25\" class=\"node\">\n<title>137140320088416exp</title>\n<ellipse fill=\"none\" stroke=\"black\" cx=\"1183\" cy=\"-73.5\" rx=\"27\" ry=\"18\"/>\n<text text-anchor=\"middle\" x=\"1183\" y=\"-69.8\" font-family=\"Times,serif\" font-size=\"14.00\">exp</text>\n</g>\n<!-- 137140320078384&#45;&gt;137140320088416exp -->\n<g id=\"edge26\" class=\"edge\">\n<title>137140320078384&#45;&gt;137140320088416exp</title>\n<path fill=\"none\" stroke=\"black\" d=\"M1118.75,-73.5C1128.32,-73.5 1137.58,-73.5 1145.93,-73.5\"/>\n<polygon fill=\"black\" stroke=\"black\" points=\"1145.97,-77 1155.97,-73.5 1145.97,-70 1145.97,-77\"/>\n</g>\n<!-- 137140320088656 -->\n<g id=\"node6\" class=\"node\">\n<title>137140320088656</title>\n<polygon fill=\"none\" stroke=\"black\" points=\"2195,-78.5 2195,-114.5 2381,-114.5 2381,-78.5 2195,-78.5\"/>\n<text text-anchor=\"middle\" x=\"2205\" y=\"-92.8\" font-family=\"Times,serif\" font-size=\"14.00\"> </text>\n<polyline fill=\"none\" stroke=\"black\" points=\"2215,-78.5 2215,-114.5 \"/>\n<text text-anchor=\"middle\" x=\"2255\" y=\"-92.8\" font-family=\"Times,serif\" font-size=\"14.00\">data 0.1135</text>\n<polyline fill=\"none\" stroke=\"black\" points=\"2295,-78.5 2295,-114.5 \"/>\n<text text-anchor=\"middle\" x=\"2338\" y=\"-92.8\" font-family=\"Times,serif\" font-size=\"14.00\">grad &#45;8.8067</text>\n</g>\n<!-- 137140320077040log -->\n<g id=\"node18\" class=\"node\">\n<title>137140320077040log</title>\n<ellipse fill=\"none\" stroke=\"black\" cx=\"2444\" cy=\"-96.5\" rx=\"27\" ry=\"18\"/>\n<text text-anchor=\"middle\" x=\"2444\" y=\"-92.8\" font-family=\"Times,serif\" font-size=\"14.00\">log</text>\n</g>\n<!-- 137140320088656&#45;&gt;137140320077040log -->\n<g id=\"edge29\" class=\"edge\">\n<title>137140320088656&#45;&gt;137140320077040log</title>\n<path fill=\"none\" stroke=\"black\" d=\"M2381.25,-96.5C2390.15,-96.5 2398.76,-96.5 2406.59,-96.5\"/>\n<polygon fill=\"black\" stroke=\"black\" points=\"2406.73,-100 2416.73,-96.5 2406.73,-93 2406.73,-100\"/>\n</g>\n<!-- 137140320088656*&#45;&gt;137140320088656 -->\n<g id=\"edge3\" class=\"edge\">\n<title>137140320088656*&#45;&gt;137140320088656</title>\n<path fill=\"none\" stroke=\"black\" d=\"M2159.12,-96.5C2166.62,-96.5 2175.29,-96.5 2184.5,-96.5\"/>\n<polygon fill=\"black\" stroke=\"black\" points=\"2184.69,-100 2194.69,-96.5 2184.69,-93 2184.69,-100\"/>\n</g>\n<!-- 137140320085104 -->\n<g id=\"node8\" class=\"node\">\n<title>137140320085104</title>\n<polygon fill=\"none\" stroke=\"black\" points=\"1561,-102.5 1561,-138.5 1750,-138.5 1750,-102.5 1561,-102.5\"/>\n<text text-anchor=\"middle\" x=\"1571\" y=\"-116.8\" font-family=\"Times,serif\" font-size=\"14.00\"> </text>\n<polyline fill=\"none\" stroke=\"black\" points=\"1581,-102.5 1581,-138.5 \"/>\n<text text-anchor=\"middle\" x=\"1624.5\" y=\"-116.8\" font-family=\"Times,serif\" font-size=\"14.00\">data 23.9392</text>\n<polyline fill=\"none\" stroke=\"black\" points=\"1668,-102.5 1668,-138.5 \"/>\n<text text-anchor=\"middle\" x=\"1709\" y=\"-116.8\" font-family=\"Times,serif\" font-size=\"14.00\">grad 0.0418</text>\n</g>\n<!-- 137140320085104&#45;&gt;137140320089616**&#45;1 -->\n<g id=\"edge20\" class=\"edge\">\n<title>137140320085104&#45;&gt;137140320089616**&#45;1</title>\n<path fill=\"none\" stroke=\"black\" d=\"M1750.1,-120.5C1759.12,-120.5 1767.84,-120.5 1775.75,-120.5\"/>\n<polygon fill=\"black\" stroke=\"black\" points=\"1775.99,-124 1785.99,-120.5 1775.99,-117 1775.99,-124\"/>\n</g>\n<!-- 137140320085104+ -->\n<g id=\"node9\" class=\"node\">\n<title>137140320085104+</title>\n<ellipse fill=\"none\" stroke=\"black\" cx=\"1498\" cy=\"-120.5\" rx=\"27\" ry=\"18\"/>\n<text text-anchor=\"middle\" x=\"1498\" y=\"-116.8\" font-family=\"Times,serif\" font-size=\"14.00\">+</text>\n</g>\n<!-- 137140320085104+&#45;&gt;137140320085104 -->\n<g id=\"edge4\" class=\"edge\">\n<title>137140320085104+&#45;&gt;137140320085104</title>\n<path fill=\"none\" stroke=\"black\" d=\"M1525.03,-120.5C1532.66,-120.5 1541.52,-120.5 1550.94,-120.5\"/>\n<polygon fill=\"black\" stroke=\"black\" points=\"1550.94,-124 1560.94,-120.5 1550.94,-117 1550.94,-124\"/>\n</g>\n<!-- 137140320085632 -->\n<g id=\"node10\" class=\"node\">\n<title>137140320085632</title>\n<polygon fill=\"none\" stroke=\"black\" points=\"931,-110.5 931,-146.5 1120,-146.5 1120,-110.5 931,-110.5\"/>\n<text text-anchor=\"middle\" x=\"941\" y=\"-124.8\" font-family=\"Times,serif\" font-size=\"14.00\"> </text>\n<polyline fill=\"none\" stroke=\"black\" points=\"951,-110.5 951,-146.5 \"/>\n<text text-anchor=\"middle\" x=\"994.5\" y=\"-124.8\" font-family=\"Times,serif\" font-size=\"14.00\">data 21.0855</text>\n<polyline fill=\"none\" stroke=\"black\" points=\"1038,-110.5 1038,-146.5 \"/>\n<text text-anchor=\"middle\" x=\"1079\" y=\"-124.8\" font-family=\"Times,serif\" font-size=\"14.00\">grad 0.0418</text>\n</g>\n<!-- 137140320085632&#45;&gt;137140320085200+ -->\n<g id=\"edge21\" class=\"edge\">\n<title>137140320085632&#45;&gt;137140320085200+</title>\n<path fill=\"none\" stroke=\"black\" d=\"M1120.1,-128.5C1129.12,-128.5 1137.84,-128.5 1145.75,-128.5\"/>\n<polygon fill=\"black\" stroke=\"black\" points=\"1145.99,-132 1155.99,-128.5 1145.99,-125 1145.99,-132\"/>\n</g>\n<!-- 137140320085632+ -->\n<g id=\"node11\" class=\"node\">\n<title>137140320085632+</title>\n<ellipse fill=\"none\" stroke=\"black\" cx=\"868\" cy=\"-128.5\" rx=\"27\" ry=\"18\"/>\n<text text-anchor=\"middle\" x=\"868\" y=\"-124.8\" font-family=\"Times,serif\" font-size=\"14.00\">+</text>\n</g>\n<!-- 137140320085632+&#45;&gt;137140320085632 -->\n<g id=\"edge5\" class=\"edge\">\n<title>137140320085632+&#45;&gt;137140320085632</title>\n<path fill=\"none\" stroke=\"black\" d=\"M895.03,-128.5C902.66,-128.5 911.52,-128.5 920.94,-128.5\"/>\n<polygon fill=\"black\" stroke=\"black\" points=\"920.94,-132 930.94,-128.5 920.94,-125 920.94,-132\"/>\n</g>\n<!-- 137140320077424 -->\n<g id=\"node12\" class=\"node\">\n<title>137140320077424</title>\n<polygon fill=\"none\" stroke=\"black\" points=\"617,-165.5 617,-201.5 804,-201.5 804,-165.5 617,-165.5\"/>\n<text text-anchor=\"middle\" x=\"627\" y=\"-179.8\" font-family=\"Times,serif\" font-size=\"14.00\"> </text>\n<polyline fill=\"none\" stroke=\"black\" points=\"637,-165.5 637,-201.5 \"/>\n<text text-anchor=\"middle\" x=\"679.5\" y=\"-179.8\" font-family=\"Times,serif\" font-size=\"14.00\">data &#45;2.0000</text>\n<polyline fill=\"none\" stroke=\"black\" points=\"722,-165.5 722,-201.5 \"/>\n<text text-anchor=\"middle\" x=\"763\" y=\"-179.8\" font-family=\"Times,serif\" font-size=\"14.00\">grad 0.0057</text>\n</g>\n<!-- 137140320077424&#45;&gt;137140320088080exp -->\n<g id=\"edge25\" class=\"edge\">\n<title>137140320077424&#45;&gt;137140320088080exp</title>\n<path fill=\"none\" stroke=\"black\" d=\"M804.2,-183.5C813.52,-183.5 822.54,-183.5 830.69,-183.5\"/>\n<polygon fill=\"black\" stroke=\"black\" points=\"830.88,-187 840.88,-183.5 830.88,-180 830.88,-187\"/>\n</g>\n<!-- 137140320085200 -->\n<g id=\"node13\" class=\"node\">\n<title>137140320085200</title>\n<polygon fill=\"none\" stroke=\"black\" points=\"1246,-110.5 1246,-146.5 1435,-146.5 1435,-110.5 1246,-110.5\"/>\n<text text-anchor=\"middle\" x=\"1256\" y=\"-124.8\" font-family=\"Times,serif\" font-size=\"14.00\"> </text>\n<polyline fill=\"none\" stroke=\"black\" points=\"1266,-110.5 1266,-146.5 \"/>\n<text text-anchor=\"middle\" x=\"1309.5\" y=\"-124.8\" font-family=\"Times,serif\" font-size=\"14.00\">data 21.2209</text>\n<polyline fill=\"none\" stroke=\"black\" points=\"1353,-110.5 1353,-146.5 \"/>\n<text text-anchor=\"middle\" x=\"1394\" y=\"-124.8\" font-family=\"Times,serif\" font-size=\"14.00\">grad 0.0418</text>\n</g>\n<!-- 137140320085200&#45;&gt;137140320085104+ -->\n<g id=\"edge30\" class=\"edge\">\n<title>137140320085200&#45;&gt;137140320085104+</title>\n<path fill=\"none\" stroke=\"black\" d=\"M1435.1,-123.68C1444.12,-123.22 1452.84,-122.77 1460.75,-122.36\"/>\n<polygon fill=\"black\" stroke=\"black\" points=\"1461.19,-125.85 1470.99,-121.84 1460.83,-118.86 1461.19,-125.85\"/>\n</g>\n<!-- 137140320085200+&#45;&gt;137140320085200 -->\n<g id=\"edge6\" class=\"edge\">\n<title>137140320085200+&#45;&gt;137140320085200</title>\n<path fill=\"none\" stroke=\"black\" d=\"M1210.03,-128.5C1217.66,-128.5 1226.52,-128.5 1235.94,-128.5\"/>\n<polygon fill=\"black\" stroke=\"black\" points=\"1235.94,-132 1245.94,-128.5 1235.94,-125 1235.94,-132\"/>\n</g>\n<!-- 137140320087264 -->\n<g id=\"node15\" class=\"node\">\n<title>137140320087264</title>\n<polygon fill=\"none\" stroke=\"black\" points=\"308,-55.5 308,-91.5 490,-91.5 490,-55.5 308,-55.5\"/>\n<text text-anchor=\"middle\" x=\"318\" y=\"-69.8\" font-family=\"Times,serif\" font-size=\"14.00\"> </text>\n<polyline fill=\"none\" stroke=\"black\" points=\"328,-55.5 328,-91.5 \"/>\n<text text-anchor=\"middle\" x=\"368\" y=\"-69.8\" font-family=\"Times,serif\" font-size=\"14.00\">data 1.0000</text>\n<polyline fill=\"none\" stroke=\"black\" points=\"408,-55.5 408,-91.5 \"/>\n<text text-anchor=\"middle\" x=\"449\" y=\"-69.8\" font-family=\"Times,serif\" font-size=\"14.00\">grad 0.0418</text>\n</g>\n<!-- 137140320085440+ -->\n<g id=\"node30\" class=\"node\">\n<title>137140320085440+</title>\n<ellipse fill=\"none\" stroke=\"black\" cx=\"553\" cy=\"-73.5\" rx=\"27\" ry=\"18\"/>\n<text text-anchor=\"middle\" x=\"553\" y=\"-69.8\" font-family=\"Times,serif\" font-size=\"14.00\">+</text>\n</g>\n<!-- 137140320087264&#45;&gt;137140320085440+ -->\n<g id=\"edge23\" class=\"edge\">\n<title>137140320087264&#45;&gt;137140320085440+</title>\n<path fill=\"none\" stroke=\"black\" d=\"M490.18,-73.5C499.14,-73.5 507.83,-73.5 515.73,-73.5\"/>\n<polygon fill=\"black\" stroke=\"black\" points=\"515.96,-77 525.96,-73.5 515.96,-70 515.96,-77\"/>\n</g>\n<!-- 137140320087264exp -->\n<g id=\"node16\" class=\"node\">\n<title>137140320087264exp</title>\n<ellipse fill=\"none\" stroke=\"black\" cx=\"245\" cy=\"-73.5\" rx=\"27\" ry=\"18\"/>\n<text text-anchor=\"middle\" x=\"245\" y=\"-69.8\" font-family=\"Times,serif\" font-size=\"14.00\">exp</text>\n</g>\n<!-- 137140320087264exp&#45;&gt;137140320087264 -->\n<g id=\"edge7\" class=\"edge\">\n<title>137140320087264exp&#45;&gt;137140320087264</title>\n<path fill=\"none\" stroke=\"black\" d=\"M272.13,-73.5C279.67,-73.5 288.39,-73.5 297.64,-73.5\"/>\n<polygon fill=\"black\" stroke=\"black\" points=\"297.87,-77 307.87,-73.5 297.87,-70 297.87,-77\"/>\n</g>\n<!-- 137140320077040 -->\n<g id=\"node17\" class=\"node\">\n<title>137140320077040</title>\n<polygon fill=\"none\" stroke=\"black\" points=\"2507,-78.5 2507,-114.5 2698,-114.5 2698,-78.5 2507,-78.5\"/>\n<text text-anchor=\"middle\" x=\"2517\" y=\"-92.8\" font-family=\"Times,serif\" font-size=\"14.00\"> </text>\n<polyline fill=\"none\" stroke=\"black\" points=\"2527,-78.5 2527,-114.5 \"/>\n<text text-anchor=\"middle\" x=\"2569.5\" y=\"-92.8\" font-family=\"Times,serif\" font-size=\"14.00\">data &#45;2.1755</text>\n<polyline fill=\"none\" stroke=\"black\" points=\"2612,-78.5 2612,-114.5 \"/>\n<text text-anchor=\"middle\" x=\"2655\" y=\"-92.8\" font-family=\"Times,serif\" font-size=\"14.00\">grad &#45;1.0000</text>\n</g>\n<!-- 137140320087312* -->\n<g id=\"node21\" class=\"node\">\n<title>137140320087312*</title>\n<ellipse fill=\"none\" stroke=\"black\" cx=\"2761\" cy=\"-123.5\" rx=\"27\" ry=\"18\"/>\n<text text-anchor=\"middle\" x=\"2761\" y=\"-119.8\" font-family=\"Times,serif\" font-size=\"14.00\">*</text>\n</g>\n<!-- 137140320077040&#45;&gt;137140320087312* -->\n<g id=\"edge19\" class=\"edge\">\n<title>137140320077040&#45;&gt;137140320087312*</title>\n<path fill=\"none\" stroke=\"black\" d=\"M2698.15,-112.83C2707.46,-114.44 2716.44,-115.99 2724.54,-117.38\"/>\n<polygon fill=\"black\" stroke=\"black\" points=\"2724.19,-120.87 2734.64,-119.12 2725.38,-113.98 2724.19,-120.87\"/>\n</g>\n<!-- 137140320077040log&#45;&gt;137140320077040 -->\n<g id=\"edge8\" class=\"edge\">\n<title>137140320077040log&#45;&gt;137140320077040</title>\n<path fill=\"none\" stroke=\"black\" d=\"M2471.19,-96.5C2478.67,-96.5 2487.31,-96.5 2496.51,-96.5\"/>\n<polygon fill=\"black\" stroke=\"black\" points=\"2496.68,-100 2506.68,-96.5 2496.68,-93 2496.68,-100\"/>\n</g>\n<!-- 137140320086256 -->\n<g id=\"node19\" class=\"node\">\n<title>137140320086256</title>\n<polygon fill=\"none\" stroke=\"black\" points=\"0,-55.5 0,-91.5 182,-91.5 182,-55.5 0,-55.5\"/>\n<text text-anchor=\"middle\" x=\"10\" y=\"-69.8\" font-family=\"Times,serif\" font-size=\"14.00\"> </text>\n<polyline fill=\"none\" stroke=\"black\" points=\"20,-55.5 20,-91.5 \"/>\n<text text-anchor=\"middle\" x=\"60\" y=\"-69.8\" font-family=\"Times,serif\" font-size=\"14.00\">data 0.0000</text>\n<polyline fill=\"none\" stroke=\"black\" points=\"100,-55.5 100,-91.5 \"/>\n<text text-anchor=\"middle\" x=\"141\" y=\"-69.8\" font-family=\"Times,serif\" font-size=\"14.00\">grad 0.0418</text>\n</g>\n<!-- 137140320086256&#45;&gt;137140320087264exp -->\n<g id=\"edge18\" class=\"edge\">\n<title>137140320086256&#45;&gt;137140320087264exp</title>\n<path fill=\"none\" stroke=\"black\" d=\"M182.18,-73.5C191.14,-73.5 199.83,-73.5 207.73,-73.5\"/>\n<polygon fill=\"black\" stroke=\"black\" points=\"207.96,-77 217.96,-73.5 207.96,-70 207.96,-77\"/>\n</g>\n<!-- 137140320087312 -->\n<g id=\"node20\" class=\"node\">\n<title>137140320087312</title>\n<polygon fill=\"none\" stroke=\"black\" points=\"2824,-105.5 2824,-141.5 3006,-141.5 3006,-105.5 2824,-105.5\"/>\n<text text-anchor=\"middle\" x=\"2834\" y=\"-119.8\" font-family=\"Times,serif\" font-size=\"14.00\"> </text>\n<polyline fill=\"none\" stroke=\"black\" points=\"2844,-105.5 2844,-141.5 \"/>\n<text text-anchor=\"middle\" x=\"2884\" y=\"-119.8\" font-family=\"Times,serif\" font-size=\"14.00\">data 2.1755</text>\n<polyline fill=\"none\" stroke=\"black\" points=\"2924,-105.5 2924,-141.5 \"/>\n<text text-anchor=\"middle\" x=\"2965\" y=\"-119.8\" font-family=\"Times,serif\" font-size=\"14.00\">grad 1.0000</text>\n</g>\n<!-- 137140320087312*&#45;&gt;137140320087312 -->\n<g id=\"edge9\" class=\"edge\">\n<title>137140320087312*&#45;&gt;137140320087312</title>\n<path fill=\"none\" stroke=\"black\" d=\"M2788.13,-123.5C2795.67,-123.5 2804.39,-123.5 2813.64,-123.5\"/>\n<polygon fill=\"black\" stroke=\"black\" points=\"2813.87,-127 2823.87,-123.5 2813.87,-120 2813.87,-127\"/>\n</g>\n<!-- 137140320085776 -->\n<g id=\"node22\" class=\"node\">\n<title>137140320085776</title>\n<polygon fill=\"none\" stroke=\"black\" points=\"308,-0.5 308,-36.5 490,-36.5 490,-0.5 308,-0.5\"/>\n<text text-anchor=\"middle\" x=\"318\" y=\"-14.8\" font-family=\"Times,serif\" font-size=\"14.00\"> </text>\n<polyline fill=\"none\" stroke=\"black\" points=\"328,-0.5 328,-36.5 \"/>\n<text text-anchor=\"middle\" x=\"368\" y=\"-14.8\" font-family=\"Times,serif\" font-size=\"14.00\">data 0.0000</text>\n<polyline fill=\"none\" stroke=\"black\" points=\"408,-0.5 408,-36.5 \"/>\n<text text-anchor=\"middle\" x=\"449\" y=\"-14.8\" font-family=\"Times,serif\" font-size=\"14.00\">grad 0.0418</text>\n</g>\n<!-- 137140320085776&#45;&gt;137140320085440+ -->\n<g id=\"edge24\" class=\"edge\">\n<title>137140320085776&#45;&gt;137140320085440+</title>\n<path fill=\"none\" stroke=\"black\" d=\"M464.26,-36.64C472.97,-39.43 481.75,-42.41 490,-45.5 500.48,-49.42 511.69,-54.27 521.66,-58.83\"/>\n<polygon fill=\"black\" stroke=\"black\" points=\"520.23,-62.02 530.77,-63.07 523.18,-55.68 520.23,-62.02\"/>\n</g>\n<!-- 137140320078624 -->\n<g id=\"node23\" class=\"node\">\n<title>137140320078624</title>\n<polygon fill=\"none\" stroke=\"black\" points=\"308,-110.5 308,-146.5 490,-146.5 490,-110.5 308,-110.5\"/>\n<text text-anchor=\"middle\" x=\"318\" y=\"-124.8\" font-family=\"Times,serif\" font-size=\"14.00\"> </text>\n<polyline fill=\"none\" stroke=\"black\" points=\"328,-110.5 328,-146.5 \"/>\n<text text-anchor=\"middle\" x=\"368\" y=\"-124.8\" font-family=\"Times,serif\" font-size=\"14.00\">data 3.0000</text>\n<polyline fill=\"none\" stroke=\"black\" points=\"408,-110.5 408,-146.5 \"/>\n<text text-anchor=\"middle\" x=\"449\" y=\"-124.8\" font-family=\"Times,serif\" font-size=\"14.00\">grad 0.8390</text>\n</g>\n<!-- 137140320088032exp -->\n<g id=\"node28\" class=\"node\">\n<title>137140320088032exp</title>\n<ellipse fill=\"none\" stroke=\"black\" cx=\"553\" cy=\"-128.5\" rx=\"27\" ry=\"18\"/>\n<text text-anchor=\"middle\" x=\"553\" y=\"-124.8\" font-family=\"Times,serif\" font-size=\"14.00\">exp</text>\n</g>\n<!-- 137140320078624&#45;&gt;137140320088032exp -->\n<g id=\"edge22\" class=\"edge\">\n<title>137140320078624&#45;&gt;137140320088032exp</title>\n<path fill=\"none\" stroke=\"black\" d=\"M490.18,-128.5C499.14,-128.5 507.83,-128.5 515.73,-128.5\"/>\n<polygon fill=\"black\" stroke=\"black\" points=\"515.96,-132 525.96,-128.5 515.96,-125 515.96,-132\"/>\n</g>\n<!-- 137140320088416 -->\n<g id=\"node24\" class=\"node\">\n<title>137140320088416</title>\n<polygon fill=\"none\" stroke=\"black\" points=\"1247.5,-55.5 1247.5,-91.5 1433.5,-91.5 1433.5,-55.5 1247.5,-55.5\"/>\n<text text-anchor=\"middle\" x=\"1257.5\" y=\"-69.8\" font-family=\"Times,serif\" font-size=\"14.00\"> </text>\n<polyline fill=\"none\" stroke=\"black\" points=\"1267.5,-55.5 1267.5,-91.5 \"/>\n<text text-anchor=\"middle\" x=\"1307.5\" y=\"-69.8\" font-family=\"Times,serif\" font-size=\"14.00\">data 2.7183</text>\n<polyline fill=\"none\" stroke=\"black\" points=\"1347.5,-55.5 1347.5,-91.5 \"/>\n<text text-anchor=\"middle\" x=\"1390.5\" y=\"-69.8\" font-family=\"Times,serif\" font-size=\"14.00\">grad &#45;0.3261</text>\n</g>\n<!-- 137140320088416&#45;&gt;137140320088656* -->\n<g id=\"edge14\" class=\"edge\">\n<title>137140320088416&#45;&gt;137140320088656*</title>\n<path fill=\"none\" stroke=\"black\" d=\"M1433.6,-73.5C1495.96,-73.5 1580.19,-73.5 1654.5,-73.5 1654.5,-73.5 1654.5,-73.5 1814,-73.5 1916.07,-73.5 2036.15,-85.51 2094.92,-92.17\"/>\n<polygon fill=\"black\" stroke=\"black\" points=\"2094.82,-95.68 2105.16,-93.35 2095.62,-88.73 2094.82,-95.68\"/>\n</g>\n<!-- 137140320088416&#45;&gt;137140320085104+ -->\n<g id=\"edge17\" class=\"edge\">\n<title>137140320088416&#45;&gt;137140320085104+</title>\n<path fill=\"none\" stroke=\"black\" d=\"M1404.95,-91.54C1415.02,-94.48 1425.31,-97.54 1435,-100.5 1444.37,-103.36 1454.5,-106.58 1463.81,-109.58\"/>\n<polygon fill=\"black\" stroke=\"black\" points=\"1462.91,-112.97 1473.5,-112.73 1465.07,-106.31 1462.91,-112.97\"/>\n</g>\n<!-- 137140320088416exp&#45;&gt;137140320088416 -->\n<g id=\"edge10\" class=\"edge\">\n<title>137140320088416exp&#45;&gt;137140320088416</title>\n<path fill=\"none\" stroke=\"black\" d=\"M1210.03,-73.5C1218,-73.5 1227.31,-73.5 1237.2,-73.5\"/>\n<polygon fill=\"black\" stroke=\"black\" points=\"1237.27,-77 1247.27,-73.5 1237.27,-70 1237.27,-77\"/>\n</g>\n<!-- 137140320088512 -->\n<g id=\"node26\" class=\"node\">\n<title>137140320088512</title>\n<polygon fill=\"none\" stroke=\"black\" points=\"2507,-133.5 2507,-169.5 2698,-169.5 2698,-133.5 2507,-133.5\"/>\n<text text-anchor=\"middle\" x=\"2517\" y=\"-147.8\" font-family=\"Times,serif\" font-size=\"14.00\"> </text>\n<polyline fill=\"none\" stroke=\"black\" points=\"2527,-133.5 2527,-169.5 \"/>\n<text text-anchor=\"middle\" x=\"2569.5\" y=\"-147.8\" font-family=\"Times,serif\" font-size=\"14.00\">data &#45;1.0000</text>\n<polyline fill=\"none\" stroke=\"black\" points=\"2612,-133.5 2612,-169.5 \"/>\n<text text-anchor=\"middle\" x=\"2655\" y=\"-147.8\" font-family=\"Times,serif\" font-size=\"14.00\">grad &#45;2.1755</text>\n</g>\n<!-- 137140320088512&#45;&gt;137140320087312* -->\n<g id=\"edge15\" class=\"edge\">\n<title>137140320088512&#45;&gt;137140320087312*</title>\n<path fill=\"none\" stroke=\"black\" d=\"M2698.15,-134.57C2707.46,-132.9 2716.44,-131.29 2724.54,-129.84\"/>\n<polygon fill=\"black\" stroke=\"black\" points=\"2725.41,-133.24 2734.64,-128.04 2724.18,-126.35 2725.41,-133.24\"/>\n</g>\n<!-- 137140320088032 -->\n<g id=\"node27\" class=\"node\">\n<title>137140320088032</title>\n<polygon fill=\"none\" stroke=\"black\" points=\"616,-110.5 616,-146.5 805,-146.5 805,-110.5 616,-110.5\"/>\n<text text-anchor=\"middle\" x=\"626\" y=\"-124.8\" font-family=\"Times,serif\" font-size=\"14.00\"> </text>\n<polyline fill=\"none\" stroke=\"black\" points=\"636,-110.5 636,-146.5 \"/>\n<text text-anchor=\"middle\" x=\"679.5\" y=\"-124.8\" font-family=\"Times,serif\" font-size=\"14.00\">data 20.0855</text>\n<polyline fill=\"none\" stroke=\"black\" points=\"723,-110.5 723,-146.5 \"/>\n<text text-anchor=\"middle\" x=\"764\" y=\"-124.8\" font-family=\"Times,serif\" font-size=\"14.00\">grad 0.0418</text>\n</g>\n<!-- 137140320088032&#45;&gt;137140320085632+ -->\n<g id=\"edge16\" class=\"edge\">\n<title>137140320088032&#45;&gt;137140320085632+</title>\n<path fill=\"none\" stroke=\"black\" d=\"M805.1,-128.5C814.12,-128.5 822.84,-128.5 830.75,-128.5\"/>\n<polygon fill=\"black\" stroke=\"black\" points=\"830.99,-132 840.99,-128.5 830.99,-125 830.99,-132\"/>\n</g>\n<!-- 137140320088032exp&#45;&gt;137140320088032 -->\n<g id=\"edge11\" class=\"edge\">\n<title>137140320088032exp&#45;&gt;137140320088032</title>\n<path fill=\"none\" stroke=\"black\" d=\"M580.03,-128.5C587.66,-128.5 596.52,-128.5 605.94,-128.5\"/>\n<polygon fill=\"black\" stroke=\"black\" points=\"605.94,-132 615.94,-128.5 605.94,-125 605.94,-132\"/>\n</g>\n<!-- 137140320085440 -->\n<g id=\"node29\" class=\"node\">\n<title>137140320085440</title>\n<polygon fill=\"none\" stroke=\"black\" points=\"619.5,-55.5 619.5,-91.5 801.5,-91.5 801.5,-55.5 619.5,-55.5\"/>\n<text text-anchor=\"middle\" x=\"629.5\" y=\"-69.8\" font-family=\"Times,serif\" font-size=\"14.00\"> </text>\n<polyline fill=\"none\" stroke=\"black\" points=\"639.5,-55.5 639.5,-91.5 \"/>\n<text text-anchor=\"middle\" x=\"679.5\" y=\"-69.8\" font-family=\"Times,serif\" font-size=\"14.00\">data 1.0000</text>\n<polyline fill=\"none\" stroke=\"black\" points=\"719.5,-55.5 719.5,-91.5 \"/>\n<text text-anchor=\"middle\" x=\"760.5\" y=\"-69.8\" font-family=\"Times,serif\" font-size=\"14.00\">grad 0.0418</text>\n</g>\n<!-- 137140320085440&#45;&gt;137140320085632+ -->\n<g id=\"edge27\" class=\"edge\">\n<title>137140320085440&#45;&gt;137140320085632+</title>\n<path fill=\"none\" stroke=\"black\" d=\"M778.28,-91.52C787.33,-94.33 796.44,-97.35 805,-100.5 815.5,-104.36 826.72,-109.2 836.69,-113.76\"/>\n<polygon fill=\"black\" stroke=\"black\" points=\"835.25,-116.96 845.79,-118.01 838.21,-110.61 835.25,-116.96\"/>\n</g>\n<!-- 137140320085440+&#45;&gt;137140320085440 -->\n<g id=\"edge12\" class=\"edge\">\n<title>137140320085440+&#45;&gt;137140320085440</title>\n<path fill=\"none\" stroke=\"black\" d=\"M580.03,-73.5C588.48,-73.5 598.42,-73.5 608.98,-73.5\"/>\n<polygon fill=\"black\" stroke=\"black\" points=\"609.27,-77 619.27,-73.5 609.27,-70 609.27,-77\"/>\n</g>\n</g>\n</svg>\n",
            "text/plain": [
              "<graphviz.graphs.Digraph at 0x7cba78091cc0>"
            ]
          },
          "metadata": {},
          "execution_count": 14
        }
      ]
    },
    {
      "cell_type": "code",
      "source": [
        "# verify the gradient using the torch library\n",
        "# torch should give you the exact same gradient\n",
        "import torch\n",
        "\n",
        "logits = torch.tensor([0.0, 3.0, -2.0, 1.0]).double(); logits.requires_grad = True\n",
        "\n",
        "probs = torch.softmax(logits, 0, torch.double)\n",
        "loss = -probs[3].log()\n",
        "loss.backward()\n",
        "print(loss.data)\n",
        "\n",
        "for dim in range(4):\n",
        "  ok = 'OK' if abs(logits.grad[dim] - ans[dim]) < 1e-5 else 'WRONG!'\n",
        "  print(f\"{ok} for dim {dim}: expected {ans[dim]}, yours returns {logits.grad[dim]}\")"
      ],
      "metadata": {
        "id": "q7ca1SVAGG1S",
        "colab": {
          "base_uri": "https://localhost:8080/"
        },
        "outputId": "66d9c025-479e-40c9-f3e1-f446fb14891b"
      },
      "execution_count": null,
      "outputs": [
        {
          "output_type": "stream",
          "name": "stdout",
          "text": [
            "tensor(2.1755, dtype=torch.float64)\n",
            "OK for dim 0: expected 0.041772570515350445, yours returns 0.04177257051535046\n",
            "OK for dim 1: expected 0.8390245074625319, yours returns 0.8390245074625321\n",
            "OK for dim 2: expected 0.005653302662216329, yours returns 0.00565330266221633\n",
            "OK for dim 3: expected -0.8864503806400986, yours returns -0.8864503806400987\n"
          ]
        }
      ]
    },
    {
      "cell_type": "markdown",
      "source": [
        "The gradient calculated by torch is the same as we calculated using Value calss and micrograd."
      ],
      "metadata": {
        "id": "CGjInyFUIFFj"
      }
    },
    {
      "cell_type": "markdown",
      "source": [
        "#Simple Neural Net with Micrograd\n"
      ],
      "metadata": {
        "id": "BIM1AgJuKCW8"
      }
    },
    {
      "cell_type": "code",
      "source": [
        "import random\n",
        "\n",
        "class Neuron:\n",
        "\n",
        "  def __init__(self, nin, apply_act=True):\n",
        "    self.w = [Value(random.uniform(-1,1)) for _ in range(nin)]\n",
        "    self.b = Value(random.uniform(-1,1))\n",
        "    self.apply_act = apply_act\n",
        "\n",
        "  def __call__(self, x):\n",
        "    # w * x + b\n",
        "    act = sum((wi*xi for wi, xi in zip(self.w, x)), self.b)\n",
        "    # activation function is relu\n",
        "    if self.apply_act:\n",
        "      out = act.relu()\n",
        "    else:\n",
        "      out = act\n",
        "\n",
        "    return out\n",
        "\n",
        "  def parameters(self):\n",
        "    return self.w + [self.b]\n",
        "\n",
        "class Layer:\n",
        "\n",
        "  def __init__(self, nin, nout, apply_act=True):\n",
        "    self.neurons = [Neuron(nin, apply_act) for _ in range(nout)]\n",
        "\n",
        "  def __call__(self, x):\n",
        "    outs = [n(x) for n in self.neurons]\n",
        "    return outs[0] if len(outs) == 1 else outs\n",
        "\n",
        "  def parameters(self):\n",
        "    return [p for neuron in self.neurons for p in neuron.parameters()]\n",
        "\n",
        "class MLP:\n",
        "\n",
        "  def __init__(self, nin, nouts):\n",
        "    sz = [nin] + nouts\n",
        "    self.layers = [Layer(sz[i], sz[i+1]) for i in range(len(nouts))]\n",
        "\n",
        "  def __call__(self, x):\n",
        "    for layer in self.layers:\n",
        "      x = layer(x)\n",
        "    return x\n",
        "\n",
        "  def parameters(self):\n",
        "    return [p for layer in self.layers for p in layer.parameters()]"
      ],
      "metadata": {
        "id": "khZ3RDhGKHgn"
      },
      "execution_count": 71,
      "outputs": []
    },
    {
      "cell_type": "markdown",
      "source": [
        "To test the neural network and compare it with pytorch I will generate a simple 2 class classification dataset."
      ],
      "metadata": {
        "id": "XdcKEOHXWhRw"
      }
    },
    {
      "cell_type": "code",
      "source": [
        "import numpy as np\n",
        "import torch\n",
        "\n",
        "# Number of samples per class\n",
        "n_samples = 100\n",
        "\n",
        "# Generate random data for two classes\n",
        "class_0 = np.random.randn(n_samples, 3) + np.array([1, 1, 1])  # Class 0 centered around (1,1,1)\n",
        "class_1 = np.random.randn(n_samples, 3) + np.array([-1, -1, -1])  # Class 1 centered around (-1,-1,-1)\n",
        "\n",
        "# Combine the data\n",
        "features = np.vstack((class_0, class_1))\n",
        "labels = np.array([0]*n_samples + [1]*n_samples)\n",
        "\n",
        "# Convert to PyTorch tensors\n",
        "features_tensor = torch.tensor(features, dtype=torch.float32)\n",
        "labels_tensor = torch.tensor(labels, dtype=torch.long)"
      ],
      "metadata": {
        "id": "MVFW__LvWv9I"
      },
      "execution_count": 54,
      "outputs": []
    },
    {
      "cell_type": "code",
      "source": [
        "import matplotlib.pyplot as plt\n",
        "from mpl_toolkits.mplot3d import Axes3D\n",
        "\n",
        "# Assuming 'features' and 'labels' are defined as in the previous code snippet\n",
        "\n",
        "# Convert to numpy arrays for plotting\n",
        "features_np = features_tensor.numpy()\n",
        "labels_np = labels_tensor.numpy()\n",
        "\n",
        "# Create a new figure for 3D plotting\n",
        "fig = plt.figure()\n",
        "ax = fig.add_subplot(111, projection='3d')\n",
        "\n",
        "# Plot class 0 points\n",
        "ax.scatter(features_np[labels_np == 0, 0], features_np[labels_np == 0, 1], features_np[labels_np == 0, 2], c='r', marker='o', label='Class 0')\n",
        "\n",
        "# Plot class 1 points\n",
        "ax.scatter(features_np[labels_np == 1, 0], features_np[labels_np == 1, 1], features_np[labels_np == 1, 2], c='b', marker='^', label='Class 1')\n",
        "\n",
        "# Label the axes\n",
        "ax.set_xlabel('X Label')\n",
        "ax.set_ylabel('Y Label')\n",
        "ax.set_zlabel('Z Label')\n",
        "\n",
        "# Legend\n",
        "ax.legend()\n",
        "\n",
        "# Show plot\n",
        "plt.show()\n"
      ],
      "metadata": {
        "colab": {
          "base_uri": "https://localhost:8080/",
          "height": 415
        },
        "id": "b44dmtNdW4WW",
        "outputId": "d94b4c41-ff54-400e-c5ff-b3c27541051b"
      },
      "execution_count": 55,
      "outputs": [
        {
          "output_type": "display_data",
          "data": {
            "text/plain": [
              "<Figure size 640x480 with 1 Axes>"
            ],
            "image/png": "[encoded data removed]"
          },
          "metadata": {}
        }
      ]
    },
    {
      "cell_type": "markdown",
      "source": [
        "## test on micrograd"
      ],
      "metadata": {
        "id": "Ay2_ZsmNXrtt"
      }
    },
    {
      "cell_type": "code",
      "source": [
        "# all neurons in out implementation have relu activation  but the last layer shouldn't have a relu\n",
        "class Model:\n",
        "  def __init__(self):\n",
        "    self.mlp = MLP(3, [6, 4])\n",
        "    self.last_layer = Layer(4, 2, apply_act=False)\n",
        "\n",
        "  def __call__(self, x):\n",
        "    # print('here1', x)\n",
        "    x = self.mlp(x)\n",
        "    # print('here2', x)\n",
        "    x = self.last_layer(x)\n",
        "    # print('here3', x)\n",
        "    return x\n",
        "\n",
        "  def parameters(self):\n",
        "    return self.mlp.parameters() + self.last_layer.parameters()"
      ],
      "metadata": {
        "id": "UsQDB5oPab_o"
      },
      "execution_count": 85,
      "outputs": []
    },
    {
      "cell_type": "code",
      "source": [
        "def cross_entropy(pred, label):\n",
        "  probs = softmax(pred)\n",
        "  loss = -probs[int(label)].log()\n",
        "  return loss"
      ],
      "metadata": {
        "id": "NtiQ1Gtjk86H"
      },
      "execution_count": 81,
      "outputs": []
    },
    {
      "cell_type": "code",
      "source": [
        "def zero_grad(model):\n",
        "  for param in model.parameters():\n",
        "    param.grad = 0.0"
      ],
      "metadata": {
        "id": "kAiKcD5oronU"
      },
      "execution_count": 58,
      "outputs": []
    },
    {
      "cell_type": "code",
      "source": [
        "def sgd(model,  lr=0.01):\n",
        "  for param in model.parameters():\n",
        "    param.data -= lr*param.grad"
      ],
      "metadata": {
        "id": "4edsZgUJr8mF"
      },
      "execution_count": 102,
      "outputs": []
    },
    {
      "cell_type": "code",
      "source": [
        "features_mic = [[Value(i) for i in item] for item in features.tolist()]\n",
        "labels_mic = labels.tolist()\n",
        "\n",
        "model = Model()"
      ],
      "metadata": {
        "id": "W38MG8DuXvhd"
      },
      "execution_count": 116,
      "outputs": []
    },
    {
      "cell_type": "code",
      "source": [
        "# Training loop\n",
        "for epoch in range(100):  # Number of epochs\n",
        "    epoch_loss = 0\n",
        "    for feature, label in zip(features_mic, labels_mic):\n",
        "      # print(epoch, feature, label)\n",
        "      zero_grad(model)\n",
        "      out = model(feature)\n",
        "      loss = cross_entropy(out, label)\n",
        "      loss.backward()\n",
        "      sgd(model)\n",
        "      epoch_loss += loss.data\n",
        "    epoch_loss /= len(labels)\n",
        "\n",
        "    # Print statistics\n",
        "    print(f'Epoch {epoch+1}, Loss: {loss.data}')"
      ],
      "metadata": {
        "colab": {
          "base_uri": "https://localhost:8080/"
        },
        "id": "M3psWYhqrL9A",
        "outputId": "f5336e0b-c880-41dc-d6b9-a690f7677d10"
      },
      "execution_count": 117,
      "outputs": [
        {
          "output_type": "stream",
          "name": "stdout",
          "text": [
            "Epoch 1, Loss: 0.3357824788360629\n",
            "Epoch 2, Loss: 0.5203985583825025\n",
            "Epoch 3, Loss: 0.6666443003233705\n",
            "Epoch 4, Loss: 0.7482094793927179\n",
            "Epoch 5, Loss: 0.8378176469947616\n",
            "Epoch 6, Loss: 0.8968040198320859\n",
            "Epoch 7, Loss: 0.9435387570543291\n",
            "Epoch 8, Loss: 0.9683597312181137\n",
            "Epoch 9, Loss: 0.9804409729744425\n",
            "Epoch 10, Loss: 0.9907517101482038\n",
            "Epoch 11, Loss: 0.9899016761999899\n",
            "Epoch 12, Loss: 0.9866977426255966\n",
            "Epoch 13, Loss: 0.9828703839374285\n",
            "Epoch 14, Loss: 0.9808300298735195\n",
            "Epoch 15, Loss: 0.9684617219808686\n",
            "Epoch 16, Loss: 0.9674333353516748\n",
            "Epoch 17, Loss: 0.9689030357391446\n",
            "Epoch 18, Loss: 0.9736371934256952\n",
            "Epoch 19, Loss: 0.9948882306866291\n",
            "Epoch 20, Loss: 0.9753811860255637\n",
            "Epoch 21, Loss: 0.9666509399404547\n",
            "Epoch 22, Loss: 0.9670978594893171\n",
            "Epoch 23, Loss: 0.9628370636677492\n",
            "Epoch 24, Loss: 0.9558373775421898\n",
            "Epoch 25, Loss: 0.9514554559625605\n",
            "Epoch 26, Loss: 0.9551790342792833\n",
            "Epoch 27, Loss: 0.9435656626106957\n",
            "Epoch 28, Loss: 0.9370459672789415\n",
            "Epoch 29, Loss: 0.9271813657649652\n",
            "Epoch 30, Loss: 0.9224224762275084\n",
            "Epoch 31, Loss: 0.9089015673356823\n",
            "Epoch 32, Loss: 0.9052194797544775\n",
            "Epoch 33, Loss: 0.9050802793418907\n",
            "Epoch 34, Loss: 0.8995219432357175\n",
            "Epoch 35, Loss: 0.8992129950767597\n",
            "Epoch 36, Loss: 0.8973370221167141\n",
            "Epoch 37, Loss: 0.8234210531939335\n",
            "Epoch 38, Loss: 0.7273945538443359\n",
            "Epoch 39, Loss: 0.7197155835970297\n",
            "Epoch 40, Loss: 0.6889002154637363\n",
            "Epoch 41, Loss: 0.6976845697957765\n",
            "Epoch 42, Loss: 0.7037801682277609\n",
            "Epoch 43, Loss: 0.7089521662742898\n",
            "Epoch 44, Loss: 0.7120683045624994\n",
            "Epoch 45, Loss: 0.7122873160074986\n",
            "Epoch 46, Loss: 0.700811273500622\n",
            "Epoch 47, Loss: 0.7102537362602236\n",
            "Epoch 48, Loss: 0.7013948443094586\n",
            "Epoch 49, Loss: 0.696734126079314\n",
            "Epoch 50, Loss: 0.7002083188883991\n",
            "Epoch 51, Loss: 0.6872527369567976\n",
            "Epoch 52, Loss: 0.6860744189609131\n",
            "Epoch 53, Loss: 0.684983111728874\n",
            "Epoch 54, Loss: 0.6751276148859735\n",
            "Epoch 55, Loss: 0.6758094771052962\n",
            "Epoch 56, Loss: 0.6722143884600265\n",
            "Epoch 57, Loss: 0.6622065357570666\n",
            "Epoch 58, Loss: 0.6660768371097563\n",
            "Epoch 59, Loss: 0.6556841696435078\n",
            "Epoch 60, Loss: 0.6639307265682423\n",
            "Epoch 61, Loss: 0.6565725626727477\n",
            "Epoch 62, Loss: 0.6569177806141717\n",
            "Epoch 63, Loss: 0.6558783750712073\n",
            "Epoch 64, Loss: 0.6627958726515422\n",
            "Epoch 65, Loss: 0.6529903695738528\n",
            "Epoch 66, Loss: 0.6519420935387238\n",
            "Epoch 67, Loss: 0.6590450837011338\n",
            "Epoch 68, Loss: 0.6455070698742592\n",
            "Epoch 69, Loss: 0.6535512187272116\n",
            "Epoch 70, Loss: 0.6521821221013143\n",
            "Epoch 71, Loss: 0.6460450718271473\n",
            "Epoch 72, Loss: 0.6492099372359883\n",
            "Epoch 73, Loss: 0.6498883986150584\n",
            "Epoch 74, Loss: 0.6464356203330327\n",
            "Epoch 75, Loss: 0.6460760415481361\n",
            "Epoch 76, Loss: 0.6523038887693926\n",
            "Epoch 77, Loss: 0.6440209489356581\n",
            "Epoch 78, Loss: 0.6501913924404524\n",
            "Epoch 79, Loss: 0.6169027589127409\n",
            "Epoch 80, Loss: 0.5924388768551603\n",
            "Epoch 81, Loss: 0.5870527181663763\n",
            "Epoch 82, Loss: 0.5843264954972456\n",
            "Epoch 83, Loss: 0.5823834763909299\n",
            "Epoch 84, Loss: 0.5898526753116736\n",
            "Epoch 85, Loss: 0.5957504857525264\n",
            "Epoch 86, Loss: 0.5944813993430501\n",
            "Epoch 87, Loss: 0.6018207079287801\n",
            "Epoch 88, Loss: 0.6119003224683213\n",
            "Epoch 89, Loss: 0.603784904089834\n",
            "Epoch 90, Loss: 0.6222167247932768\n",
            "Epoch 91, Loss: 0.642210806423741\n",
            "Epoch 92, Loss: 0.6420515947782348\n",
            "Epoch 93, Loss: 0.6532897497841142\n",
            "Epoch 94, Loss: 0.6721613719584912\n",
            "Epoch 95, Loss: 0.6613597577849963\n",
            "Epoch 96, Loss: 0.6694375384670403\n",
            "Epoch 97, Loss: 0.6853624704579057\n",
            "Epoch 98, Loss: 0.6909520096983879\n",
            "Epoch 99, Loss: 0.6825007362822143\n",
            "Epoch 100, Loss: 0.6911575514576431\n"
          ]
        }
      ]
    },
    {
      "cell_type": "code",
      "source": [
        "# Function to calculate accuracy\n",
        "def calculate_accuracy_mic(model, dataloader):\n",
        "    total = len(labels_mic)\n",
        "    correct = 0\n",
        "    for feature, label in zip(features_mic, labels_mic):\n",
        "            outputs = model(feature)\n",
        "            predicted = int(outputs[0].data < outputs[1].data)\n",
        "            correct += (predicted == label)\n",
        "\n",
        "    accuracy = 100 * correct / total\n",
        "    return accuracy\n",
        "\n",
        "# Calculate accuracy\n",
        "model_accuracy = calculate_accuracy_mic(model, dataloader)\n",
        "print(f'Accuracy of the classifier: {model_accuracy:.2f}%')"
      ],
      "metadata": {
        "colab": {
          "base_uri": "https://localhost:8080/"
        },
        "id": "riCSXVoR6nRw",
        "outputId": "8bc1b33c-f5e6-4ba7-80ad-48c740bdc8be"
      },
      "execution_count": 118,
      "outputs": [
        {
          "output_type": "stream",
          "name": "stdout",
          "text": [
            "Accuracy of the classifier: 94.00%\n"
          ]
        }
      ]
    },
    {
      "cell_type": "markdown",
      "source": [
        "##test on pytorch\n"
      ],
      "metadata": {
        "id": "VSQG9xDNXKre"
      }
    },
    {
      "cell_type": "code",
      "source": [
        "import torch.nn as nn\n",
        "import torch.nn.functional as F\n",
        "\n",
        "# Define the MLP model\n",
        "class SimpleMLP(nn.Module):\n",
        "    def __init__(self):\n",
        "        super(SimpleMLP, self).__init__()\n",
        "        self.fc1 = nn.Linear(3, 6)\n",
        "        self.fc2 = nn.Linear(6, 4)\n",
        "        self.fc3 = nn.Linear(4, 2)\n",
        "        self.initialize_layers()\n",
        "\n",
        "    def initialize_layers(self):\n",
        "      nn.init.uniform_(self.fc1.weight, a=-1, b=1.0)\n",
        "      nn.init.uniform_(self.fc1.bias, a=-1, b=1.0)\n",
        "\n",
        "      nn.init.uniform_(self.fc2.weight, a=-1, b=1.0)\n",
        "      nn.init.uniform_(self.fc2.bias, a=-1, b=1.0)\n",
        "\n",
        "      nn.init.uniform_(self.fc3.weight, a=-1, b=1.0)\n",
        "      nn.init.uniform_(self.fc3.bias, a=-1, b=1.0)\n",
        "\n",
        "    def forward(self, x):\n",
        "        x = F.relu(self.fc1(x))\n",
        "        x = F.relu(self.fc2(x))\n",
        "        x = self.fc3(x)\n",
        "        return x\n",
        "\n",
        "# Create the model\n",
        "model_torch = SimpleMLP()\n",
        "\n"
      ],
      "metadata": {
        "id": "iZD7wD7WXJ4z"
      },
      "execution_count": 132,
      "outputs": []
    },
    {
      "cell_type": "code",
      "source": [
        "from torch.utils.data import TensorDataset, DataLoader\n",
        "import torch.optim as optim\n",
        "\n",
        "# Create a dataset and dataloader\n",
        "dataset = TensorDataset(features_tensor, labels_tensor)\n",
        "dataloader = DataLoader(dataset, batch_size=1, shuffle=True)\n",
        "\n",
        "# Loss function and optimizer\n",
        "criterion = nn.CrossEntropyLoss()\n",
        "optimizer = optim.SGD(model_torch.parameters(), lr=0.01)\n",
        "\n",
        "# Training loop\n",
        "for epoch in range(100):  # Number of epochs\n",
        "    epoch_loss = 0\n",
        "    for inputs, targets in dataloader:\n",
        "        optimizer.zero_grad()  # Zero the parameter gradients\n",
        "        outputs = model_torch(inputs)  # Forward pass\n",
        "        loss = criterion(outputs, targets)  # Compute the loss\n",
        "        loss.backward()  # Backward pass\n",
        "        optimizer.step()  # Update weights\n",
        "        epoch_loss += loss.item()\n",
        "    epoch_loss/= len(dataloader)\n",
        "\n",
        "    # Print statistics\n",
        "    print(f'Epoch {epoch+1}, Loss: {loss.item()}')\n"
      ],
      "metadata": {
        "colab": {
          "base_uri": "https://localhost:8080/"
        },
        "id": "iwVYPXg0XX7n",
        "outputId": "d9236e7e-ac1f-44ea-de3a-2c2772b9aa70"
      },
      "execution_count": 112,
      "outputs": [
        {
          "output_type": "stream",
          "name": "stdout",
          "text": [
            "Epoch 1, Loss: 0.5323507189750671\n",
            "Epoch 2, Loss: 0.06878653913736343\n",
            "Epoch 3, Loss: 0.39893820881843567\n",
            "Epoch 4, Loss: 0.44707855582237244\n",
            "Epoch 5, Loss: 0.044228434562683105\n",
            "Epoch 6, Loss: 0.054458603262901306\n",
            "Epoch 7, Loss: 0.04451614245772362\n",
            "Epoch 8, Loss: 0.0015982723562046885\n",
            "Epoch 9, Loss: 0.0004997196956537664\n",
            "Epoch 10, Loss: 1.861182451248169\n",
            "Epoch 11, Loss: 0.002506093354895711\n",
            "Epoch 12, Loss: 0.054602302610874176\n",
            "Epoch 13, Loss: 0.021992024034261703\n",
            "Epoch 14, Loss: 0.46703195571899414\n",
            "Epoch 15, Loss: 0.014872273430228233\n",
            "Epoch 16, Loss: 0.2509313225746155\n",
            "Epoch 17, Loss: 0.0006164796068333089\n",
            "Epoch 18, Loss: 0.13313843309879303\n",
            "Epoch 19, Loss: 1.1794323921203613\n",
            "Epoch 20, Loss: 0.007304745726287365\n",
            "Epoch 21, Loss: 5.364403477869928e-06\n",
            "Epoch 22, Loss: 0.0005899119423702359\n",
            "Epoch 23, Loss: 0.0008263748604804277\n",
            "Epoch 24, Loss: 3.290122185717337e-05\n",
            "Epoch 25, Loss: 0.11748544871807098\n",
            "Epoch 26, Loss: 0.5497859120368958\n",
            "Epoch 27, Loss: 0.00035565727739594877\n",
            "Epoch 28, Loss: 0.00907817855477333\n",
            "Epoch 29, Loss: 0.00018940561858471483\n",
            "Epoch 30, Loss: 0.0003736513026524335\n",
            "Epoch 31, Loss: 0.11504967510700226\n",
            "Epoch 32, Loss: 2.166586399078369\n",
            "Epoch 33, Loss: 0.029242761433124542\n",
            "Epoch 34, Loss: 0.011471619829535484\n",
            "Epoch 35, Loss: 0.0003405229654163122\n",
            "Epoch 36, Loss: 0.052038002759218216\n",
            "Epoch 37, Loss: 0.0006062338361516595\n",
            "Epoch 38, Loss: 0.0002012050390476361\n",
            "Epoch 39, Loss: 0.04867010936141014\n",
            "Epoch 40, Loss: 0.08141828328371048\n",
            "Epoch 41, Loss: 0.006397837307304144\n",
            "Epoch 42, Loss: 0.0002079985715681687\n",
            "Epoch 43, Loss: 0.0764397382736206\n",
            "Epoch 44, Loss: 0.002139067044481635\n",
            "Epoch 45, Loss: 0.00012039413559250534\n",
            "Epoch 46, Loss: 0.024488458409905434\n",
            "Epoch 47, Loss: 0.00016258825780823827\n",
            "Epoch 48, Loss: 0.023805512115359306\n",
            "Epoch 49, Loss: 0.03446335718035698\n",
            "Epoch 50, Loss: 0.005308697931468487\n",
            "Epoch 51, Loss: 0.0057591930963099\n",
            "Epoch 52, Loss: 0.017181597650051117\n",
            "Epoch 53, Loss: 0.017532486468553543\n",
            "Epoch 54, Loss: 0.005403674673289061\n",
            "Epoch 55, Loss: 0.003076346591114998\n",
            "Epoch 56, Loss: 0.0661790743470192\n",
            "Epoch 57, Loss: 0.01761588454246521\n",
            "Epoch 58, Loss: 3.3378044463461265e-05\n",
            "Epoch 59, Loss: 0.007213263306766748\n",
            "Epoch 60, Loss: 0.00010442188795423135\n",
            "Epoch 61, Loss: 0.037150368094444275\n",
            "Epoch 62, Loss: 0.1687318980693817\n",
            "Epoch 63, Loss: 0.11530730873346329\n",
            "Epoch 64, Loss: 0.0001287377526750788\n",
            "Epoch 65, Loss: 0.02394111454486847\n",
            "Epoch 66, Loss: 0.12363879382610321\n",
            "Epoch 67, Loss: 0.2182690054178238\n",
            "Epoch 68, Loss: 3.421248038648628e-05\n",
            "Epoch 69, Loss: 0.1898924559354782\n",
            "Epoch 70, Loss: 0.017859363928437233\n",
            "Epoch 71, Loss: 0.0007615765207447112\n",
            "Epoch 72, Loss: 0.07493877410888672\n",
            "Epoch 73, Loss: 0.25068020820617676\n",
            "Epoch 74, Loss: 5.066266385256313e-05\n",
            "Epoch 75, Loss: 0.39943644404411316\n",
            "Epoch 76, Loss: 0.011794004589319229\n",
            "Epoch 77, Loss: 5.245071224635467e-05\n",
            "Epoch 78, Loss: 3.0636318115284666e-05\n",
            "Epoch 79, Loss: 0.07043597847223282\n",
            "Epoch 80, Loss: 0.36094197630882263\n",
            "Epoch 81, Loss: 3.2066785934148356e-05\n",
            "Epoch 82, Loss: 0.8276567459106445\n",
            "Epoch 83, Loss: 0.0003971264814026654\n",
            "Epoch 84, Loss: 0.7388516068458557\n",
            "Epoch 85, Loss: 0.0066421679221093655\n",
            "Epoch 86, Loss: 2.706014311115723e-05\n",
            "Epoch 87, Loss: 7.629365427419543e-06\n",
            "Epoch 88, Loss: 0.008965120650827885\n",
            "Epoch 89, Loss: 0.0011798333143815398\n",
            "Epoch 90, Loss: 0.0023558977991342545\n",
            "Epoch 91, Loss: 0.0012972281547263265\n",
            "Epoch 92, Loss: 0.0002441108226776123\n",
            "Epoch 93, Loss: 0.035944510251283646\n",
            "Epoch 94, Loss: 1.0728830375228426e-06\n",
            "Epoch 95, Loss: 0.0075055514462292194\n",
            "Epoch 96, Loss: 0.0012691308511421084\n",
            "Epoch 97, Loss: 1.5203787088394165\n",
            "Epoch 98, Loss: 0.08568031340837479\n",
            "Epoch 99, Loss: 0.007254567462950945\n",
            "Epoch 100, Loss: 2.062299427052494e-05\n"
          ]
        }
      ]
    },
    {
      "cell_type": "code",
      "source": [
        "# Function to calculate accuracy\n",
        "def calculate_accuracy(model, dataloader):\n",
        "    total = 0\n",
        "    correct = 0\n",
        "    with torch.no_grad():  # No need to track gradients for validation\n",
        "        for inputs, labels in dataloader:\n",
        "            outputs = model(inputs)\n",
        "            _, predicted = torch.max(outputs.data, 1)  # Get the index of the max log-probability\n",
        "            total += labels.size(0)\n",
        "            correct += (predicted == labels).sum().item()\n",
        "\n",
        "    accuracy = 100 * correct / total\n",
        "    return accuracy\n",
        "\n",
        "# Calculate accuracy\n",
        "model_accuracy = calculate_accuracy(model_torch, dataloader)\n",
        "print(f'Accuracy of the classifier: {model_accuracy:.2f}%')\n"
      ],
      "metadata": {
        "colab": {
          "base_uri": "https://localhost:8080/"
        },
        "id": "UBV_DNsLU_A9",
        "outputId": "3ac0dd78-1dca-4645-9d18-980ecf043582"
      },
      "execution_count": 115,
      "outputs": [
        {
          "output_type": "stream",
          "name": "stdout",
          "text": [
            "Accuracy of the classifier: 95.00%\n"
          ]
        }
      ]
    }
  ]
}